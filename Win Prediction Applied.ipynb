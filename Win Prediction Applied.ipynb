{
 "cells": [
  {
   "cell_type": "code",
   "execution_count": 47,
   "id": "7d0c41a0-4ac2-4ff8-927e-3168dfee05e8",
   "metadata": {},
   "outputs": [],
   "source": [
    "# importing required libraries\n",
    "import pandas as pd\n",
    "import requests\n",
    "import nbimporter\n",
    "from win_prediction_functions import get_player_data, get_player_stats, player_stats_calc, calculate_match_stats"
   ]
  },
  {
   "cell_type": "code",
   "execution_count": 49,
   "id": "2763674b-5a58-45e8-85ad-201b84110be5",
   "metadata": {},
   "outputs": [],
   "source": [
    "auth_key = \"Bearer 5c57b2f6-bdf8-4aea-9085-0195c366238c\""
   ]
  },
  {
   "cell_type": "code",
   "execution_count": 151,
   "id": "db1e0c29-f23b-4244-810c-06197329a2bb",
   "metadata": {},
   "outputs": [],
   "source": [
    "def new_player_data(team_a_nicknames, team_b_nicknames, map, auth_key):\n",
    "\n",
    "    # creating columns for new data frame\n",
    "    columns = [\"map\", \"Team_A_avg_win_percentage\", \"Team_A_avg_KR\", \"Team_A_avg_elo\",\n",
    "                  \"Team_B_avg_win_percentage\", \"Team_B_avg_KR\", \"Team_B_avg_elo\"]\n",
    "    \n",
    "    # creating match data frame\n",
    "    \n",
    "    data_df = pd.DataFrame(columns = columns)\n",
    "    data_df.columns\n",
    "\n",
    "    # assigning none to Win row and assigning map\n",
    "    data_df.loc[0, \"map\"] = map\n",
    "\n",
    "    # Team A Stats\n",
    "    team_a_id_elo_list = []\n",
    "\n",
    "    # loops over nicknames column and appends list of player ids for team A\n",
    "    for nickname in team_a_nicknames:\n",
    "        id_elo = get_player_data(nickname, auth_key)\n",
    "        \n",
    "        # returns empty dataframe if player elo DNE\n",
    "        if id_elo.empty:\n",
    "            return id_elo\n",
    "        else:\n",
    "            team_a_id_elo_list.append(id_elo)\n",
    "\n",
    "    # creates column of player IDs from list\n",
    "    team_a_id_elo_df = pd.concat(team_a_id_elo_list)\n",
    "\n",
    "    # adds mean of team elo to match data df\n",
    "    data_df.loc[0 , \"Team_A_avg_elo\"] = team_a_id_elo_df[\"faceit_elo\"].mean()\n",
    "    \n",
    "    # Uses player ID to calculate individual player stats (K/R and win percentage)\n",
    "    team_a_stats_list = []\n",
    "    \n",
    "    for id in team_a_id_elo_df.player_id:\n",
    "        # uses get_player_stats to calculate individual stats\n",
    "        stats_df = get_player_stats(id, auth_key)\n",
    "        stats = player_stats_calc(stats_df, data_df[\"map\"][0])\n",
    "        \n",
    "        # if returned df is empty, return empty match dataframe\n",
    "        if stats.empty:\n",
    "            print(\"Unable to compute stats, may be error with map used\")\n",
    "            return stats\n",
    "\n",
    "        # append individual stats to list\n",
    "        else: \n",
    "            team_a_stats_list.append(stats)\n",
    "\n",
    "    # creates win percentage and K/R ratio columns for team A \n",
    "    team_a_stats_df = pd.concat(team_a_stats_list)\n",
    "    data_df.loc[0 , \"Team_A_avg_win_percentage\"] = team_a_stats_df[\"Win Percentage\"].mean()\n",
    "    data_df.loc[0 , \"Team_A_avg_KR\"] = team_a_stats_df[\"Average K/R Ratio\"].mean()\n",
    "        \n",
    "    \n",
    "    \n",
    "    \n",
    "    \n",
    "    # Team B stats, repeats same process used for team A stats\n",
    "    team_b_id_elo_list = []\n",
    "    \n",
    "    for nickname in team_b_nicknames:\n",
    "        \n",
    "        if id_elo.empty:\n",
    "            return id_elo\n",
    "            \n",
    "        else:\n",
    "            team_b_id_elo_list.append(id_elo)\n",
    "    \n",
    "    team_b_id_elo_df = pd.concat(team_b_id_elo_list)\n",
    "    team_b_id_elo_df\n",
    "    data_df.loc[0 , \"Team_B_avg_elo\"] = team_b_id_elo_df[\"faceit_elo\"].mean()\n",
    "    \n",
    "    \n",
    "    team_b_stats_list = []\n",
    "    for id in team_b_id_elo_df.player_id:\n",
    "        \n",
    "        stats_df = get_player_stats(id, auth_key)\n",
    "        stats = player_stats_calc(stats_df, data_df[\"map\"][0])\n",
    "        \n",
    "        if stats.empty:\n",
    "            print(\"Unable to compute stats, may be error with map used\")\n",
    "            return stats\n",
    "            \n",
    "        else: \n",
    "            team_b_stats_list.append(stats)\n",
    "            \n",
    "    team_b_stats_df = pd.concat(team_b_stats_list)\n",
    "    data_df.loc[0 , \"Team_B_avg_win_percentage\"] = team_b_stats_df[\"Win Percentage\"].mean()\n",
    "    data_df.loc[0 , \"Team_B_avg_KR\"] = team_b_stats_df[\"Average K/R Ratio\"].mean()\n",
    "\n",
    "    # Returns row of match data for match_id given\n",
    "    data_df.drop(columns = ['map'], inplace = True)\n",
    "    return data_df\n",
    "    \n",
    "    "
   ]
  },
  {
   "cell_type": "code",
   "execution_count": 159,
   "id": "21456a0c-0f1f-4fd5-855e-f23e5ba7423e",
   "metadata": {},
   "outputs": [],
   "source": [
    "# takes user input and returns list of team_nicknames and map name\n",
    "def team_inputs():\n",
    "    # loops over range and takes input for team A player nicknames\n",
    "    team_a_nicknames = []\n",
    "    for i in range(1, 6):\n",
    "        nickname = input(f\"Team A nickname {i}:\", )\n",
    "        team_a_nicknames.append(nickname)\n",
    "    # repeats for team b\n",
    "    team_b_nicknames = []\n",
    "    for i in range(1, 6):\n",
    "        nickname = input(f\"Team B nickname {i}:\", )\n",
    "        team_b_nicknames.append(nickname)\n",
    "\n",
    "    map = input(\"Map: \",)\n",
    "\n",
    "    # returns team_a, team_b nicknames and map name\n",
    "    return team_a_nicknames, team_b_nicknames, map"
   ]
  },
  {
   "cell_type": "code",
   "execution_count": 163,
   "id": "72e2d925-5454-435b-9de3-a5c01823716e",
   "metadata": {},
   "outputs": [],
   "source": [
    "# calculates win probability given model \n",
    "def win_probability_calc(model, auth_key):\n",
    "    # using team_inputs and new_player_data func to get player data\n",
    "    team_a, team_b, map = team_inputs()\n",
    "    new_data = new_player_data(team_a, \n",
    "                               team_b, \n",
    "                               map, \n",
    "                               auth_key)\n",
    "\n",
    "    # finding probability given model\n",
    "    win_prob = model.predict_proba(new_data)\n",
    "\n",
    "    return win_prob\n",
    "    "
   ]
  },
  {
   "cell_type": "code",
   "execution_count": 157,
   "id": "24388f30-3fd2-4879-a9c2-4e1ad1d82bca",
   "metadata": {},
   "outputs": [],
   "source": [
    "# pulling code from fit and tuning file and fitting a logistic regression model\n",
    "\n",
    "# readining in win prediction data\n",
    "data = pd.read_excel(\"data_win_prediction.xlsx\")\n",
    "data.columns = [\"win\", \"map\", \n",
    "                \"Team_A_avg_win_percentage\", \n",
    "                \"Team_A_avg_KR\", \"Team_A_avg_elo\", \n",
    "                \"Team_B_avg_win_percentage\", \n",
    "                \"Team_B_avg_KR\", \"Team_B_avg_elo\", \n",
    "                \"Match ID\"]\n",
    "\n",
    "# checking for missing data\n",
    "data.isna().sum()\n",
    "\n",
    "# checking for duplicated rows\n",
    "data.duplicated().sum()\n",
    "\n",
    "# removing duplicated rows\n",
    "data = data.drop_duplicates()\n",
    "data.duplicated().sum()\n",
    "\n",
    "# spliting features and response variable\n",
    "features = data.loc[:, [\"Team_A_avg_win_percentage\", \"Team_A_avg_KR\", \"Team_A_avg_elo\",\n",
    "                  \"Team_B_avg_win_percentage\", \"Team_B_avg_KR\", \"Team_B_avg_elo\"]]\n",
    "# transforming response column into a 1d array\n",
    "response = data.loc[:, [\"win\"]].values.ravel()\n",
    "\n",
    "# Importing required models for logistic regession\n",
    "from sklearn.linear_model import LogisticRegression\n",
    "from sklearn.model_selection import cross_val_score, KFold\n",
    "\n",
    "# fitting the regression model\n",
    "lr_model = LogisticRegression(max_iter = 200)\n",
    "\n",
    "# splitting data into k folds\n",
    "folds = KFold(n_splits = 10, shuffle = True, random_state = 50)\n",
    "\n",
    "# Perform k-folds cross validation\n",
    "scores = cross_val_score(lr_model, features, response, cv = folds, scoring = 'accuracy')\n",
    "scores.mean()\n",
    "\n",
    "# fitting model \n",
    "fit_model = lr_model.fit(features, response)"
   ]
  },
  {
   "cell_type": "code",
   "execution_count": 103,
   "id": "7b47f54b-fc14-40d9-bda7-2595181bbb10",
   "metadata": {},
   "outputs": [],
   "source": [
    "team_a_nicknames  = [\"pratesz\", \"tommyy_24\", \"marchyswag\", \"-Phe0nix\", \"Qestane\"]\n",
    "team_b_nicknames = [\"Frimzon\", \"DomSJ\", \"WOAH234\", \"Gemini-JC\", \"Cal1B0yz\"]"
   ]
  },
  {
   "cell_type": "code",
   "execution_count": 141,
   "id": "5ac52bae-8d8d-4bd3-b6c5-1f1467c2b9e3",
   "metadata": {},
   "outputs": [],
   "source": [
    "fit_model = lr_model.fit(features, response)"
   ]
  },
  {
   "cell_type": "code",
   "execution_count": 149,
   "id": "749468b2-09ca-4b82-8e2b-fd4b3eee9b8a",
   "metadata": {},
   "outputs": [
    {
     "name": "stdin",
     "output_type": "stream",
     "text": [
      "Team A nickname 1: pratesz\n",
      "Team A nickname 2: tommyy_24\n",
      "Team A nickname 3: marchyswag\n",
      "Team A nickname 4: -Phe0nix\n",
      "Team A nickname 5: Qestane\n",
      "Team B nickname 1: Frimzon\n",
      "Team B nickname 2: DomSJ\n",
      "Team B nickname 3: WOAH234\n",
      "Team B nickname 4: Gemini-JC\n",
      "Team B nickname 5: Cal1B0yz\n",
      "Map:  de_mirage\n"
     ]
    },
    {
     "name": "stdout",
     "output_type": "stream",
     "text": [
      "Index(['map', 'Team_A_avg_win_percentage', 'Team_A_avg_KR', 'Team_A_avg_elo',\n",
      "       'Team_B_avg_win_percentage', 'Team_B_avg_KR', 'Team_B_avg_elo'],\n",
      "      dtype='object')\n"
     ]
    },
    {
     "data": {
      "text/plain": [
       "array([[0.21044987, 0.78955013]])"
      ]
     },
     "execution_count": 149,
     "metadata": {},
     "output_type": "execute_result"
    }
   ],
   "source": [
    "win_probability_calc(fit_model, auth_key)"
   ]
  },
  {
   "cell_type": "code",
   "execution_count": null,
   "id": "ee90be50-42e3-4291-9f0d-5502aa0bc806",
   "metadata": {},
   "outputs": [],
   "source": []
  },
  {
   "cell_type": "code",
   "execution_count": null,
   "id": "3e482a94-233c-4848-aeb5-e26ccf7f582a",
   "metadata": {},
   "outputs": [],
   "source": []
  }
 ],
 "metadata": {
  "kernelspec": {
   "display_name": "Python 3 (ipykernel)",
   "language": "python",
   "name": "python3"
  },
  "language_info": {
   "codemirror_mode": {
    "name": "ipython",
    "version": 3
   },
   "file_extension": ".py",
   "mimetype": "text/x-python",
   "name": "python",
   "nbconvert_exporter": "python",
   "pygments_lexer": "ipython3",
   "version": "3.12.4"
  }
 },
 "nbformat": 4,
 "nbformat_minor": 5
}
