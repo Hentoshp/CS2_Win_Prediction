{
 "cells": [
  {
   "cell_type": "code",
   "execution_count": 82,
   "id": "739dbdfd-33f5-43ee-8d4a-71cb4a12fbab",
   "metadata": {},
   "outputs": [],
   "source": [
    "# Importing required libraries\n",
    "\n",
    "import numpy as np\n",
    "import pandas as pd"
   ]
  },
  {
   "cell_type": "code",
   "execution_count": 86,
   "id": "0a38d8ab-52df-4c94-b54f-4ecc5bc6a213",
   "metadata": {},
   "outputs": [
    {
     "data": {
      "text/html": [
       "<div>\n",
       "<style scoped>\n",
       "    .dataframe tbody tr th:only-of-type {\n",
       "        vertical-align: middle;\n",
       "    }\n",
       "\n",
       "    .dataframe tbody tr th {\n",
       "        vertical-align: top;\n",
       "    }\n",
       "\n",
       "    .dataframe thead th {\n",
       "        text-align: right;\n",
       "    }\n",
       "</style>\n",
       "<table border=\"1\" class=\"dataframe\">\n",
       "  <thead>\n",
       "    <tr style=\"text-align: right;\">\n",
       "      <th></th>\n",
       "      <th>win</th>\n",
       "      <th>map</th>\n",
       "      <th>Team_A_avg_win_percentage</th>\n",
       "      <th>Team_A_avg_KR</th>\n",
       "      <th>Team_A_avg_elo</th>\n",
       "      <th>Team_B_avg_win_percentage</th>\n",
       "      <th>Team_B_avg_KR</th>\n",
       "      <th>Team_B_avg_elo</th>\n",
       "      <th>Match ID</th>\n",
       "    </tr>\n",
       "  </thead>\n",
       "  <tbody>\n",
       "    <tr>\n",
       "      <th>0</th>\n",
       "      <td>team a</td>\n",
       "      <td>de_mirage</td>\n",
       "      <td>58.864865</td>\n",
       "      <td>0.726308</td>\n",
       "      <td>1720.4</td>\n",
       "      <td>47.289216</td>\n",
       "      <td>0.792615</td>\n",
       "      <td>1536</td>\n",
       "      <td>1-051c5a18-6a99-4e5e-bef7-ed1143474b33</td>\n",
       "    </tr>\n",
       "    <tr>\n",
       "      <th>1</th>\n",
       "      <td>team a</td>\n",
       "      <td>de_inferno</td>\n",
       "      <td>52.341629</td>\n",
       "      <td>0.764807</td>\n",
       "      <td>1989.6</td>\n",
       "      <td>54.823232</td>\n",
       "      <td>0.762641</td>\n",
       "      <td>2073</td>\n",
       "      <td>1-8f29e3ec-f49d-4d05-8eac-98993126c405</td>\n",
       "    </tr>\n",
       "    <tr>\n",
       "      <th>2</th>\n",
       "      <td>team b</td>\n",
       "      <td>de_vertigo</td>\n",
       "      <td>20.202020</td>\n",
       "      <td>0.773030</td>\n",
       "      <td>753.8</td>\n",
       "      <td>66.095238</td>\n",
       "      <td>0.722705</td>\n",
       "      <td>158</td>\n",
       "      <td>1-0e83d2d4-9aef-4b16-8142-7105abbb9022</td>\n",
       "    </tr>\n",
       "    <tr>\n",
       "      <th>3</th>\n",
       "      <td>team b</td>\n",
       "      <td>de_mirage</td>\n",
       "      <td>48.414652</td>\n",
       "      <td>0.733409</td>\n",
       "      <td>2565.0</td>\n",
       "      <td>62.631108</td>\n",
       "      <td>0.838246</td>\n",
       "      <td>2219</td>\n",
       "      <td>1-34674634-6bc9-45bc-b022-3f3161d5aede</td>\n",
       "    </tr>\n",
       "    <tr>\n",
       "      <th>4</th>\n",
       "      <td>team b</td>\n",
       "      <td>de_mirage</td>\n",
       "      <td>43.571196</td>\n",
       "      <td>0.709982</td>\n",
       "      <td>1484.4</td>\n",
       "      <td>55.513072</td>\n",
       "      <td>0.768946</td>\n",
       "      <td>1352</td>\n",
       "      <td>1-a9869c55-52a9-45a8-beb6-1fdffed4506d</td>\n",
       "    </tr>\n",
       "    <tr>\n",
       "      <th>...</th>\n",
       "      <td>...</td>\n",
       "      <td>...</td>\n",
       "      <td>...</td>\n",
       "      <td>...</td>\n",
       "      <td>...</td>\n",
       "      <td>...</td>\n",
       "      <td>...</td>\n",
       "      <td>...</td>\n",
       "      <td>...</td>\n",
       "    </tr>\n",
       "    <tr>\n",
       "      <th>1460</th>\n",
       "      <td>team a</td>\n",
       "      <td>de_nuke</td>\n",
       "      <td>56.962213</td>\n",
       "      <td>0.766837</td>\n",
       "      <td>1916.0</td>\n",
       "      <td>45.598650</td>\n",
       "      <td>0.692673</td>\n",
       "      <td>1967</td>\n",
       "      <td>1-7700da52-272c-499a-aee2-6dcd9c79a1d4</td>\n",
       "    </tr>\n",
       "    <tr>\n",
       "      <th>1461</th>\n",
       "      <td>team b</td>\n",
       "      <td>de_ancient</td>\n",
       "      <td>56.580859</td>\n",
       "      <td>0.758207</td>\n",
       "      <td>1580.0</td>\n",
       "      <td>69.394938</td>\n",
       "      <td>0.759019</td>\n",
       "      <td>2026</td>\n",
       "      <td>1-e9383e0d-385e-487f-80cf-99d092ef7b74</td>\n",
       "    </tr>\n",
       "    <tr>\n",
       "      <th>1462</th>\n",
       "      <td>team a</td>\n",
       "      <td>de_inferno</td>\n",
       "      <td>46.397195</td>\n",
       "      <td>0.742710</td>\n",
       "      <td>1497.2</td>\n",
       "      <td>54.778613</td>\n",
       "      <td>0.665482</td>\n",
       "      <td>1319</td>\n",
       "      <td>1-fe1779d4-6478-4bb7-9d97-be0008acf5a6</td>\n",
       "    </tr>\n",
       "    <tr>\n",
       "      <th>1463</th>\n",
       "      <td>team b</td>\n",
       "      <td>de_mirage</td>\n",
       "      <td>53.792449</td>\n",
       "      <td>0.762264</td>\n",
       "      <td>1533.4</td>\n",
       "      <td>53.216783</td>\n",
       "      <td>0.755543</td>\n",
       "      <td>450</td>\n",
       "      <td>1-cb15c093-881c-4ac2-ab54-7e7e03eba2ae</td>\n",
       "    </tr>\n",
       "    <tr>\n",
       "      <th>1464</th>\n",
       "      <td>team b</td>\n",
       "      <td>de_nuke</td>\n",
       "      <td>60.458365</td>\n",
       "      <td>0.796208</td>\n",
       "      <td>2485.8</td>\n",
       "      <td>54.160301</td>\n",
       "      <td>0.707371</td>\n",
       "      <td>2644</td>\n",
       "      <td>1-5acfd781-934e-4155-900f-c5318babd62a</td>\n",
       "    </tr>\n",
       "  </tbody>\n",
       "</table>\n",
       "<p>1465 rows × 9 columns</p>\n",
       "</div>"
      ],
      "text/plain": [
       "         win         map  Team_A_avg_win_percentage  Team_A_avg_KR  \\\n",
       "0     team a   de_mirage                  58.864865       0.726308   \n",
       "1     team a  de_inferno                  52.341629       0.764807   \n",
       "2     team b  de_vertigo                  20.202020       0.773030   \n",
       "3     team b   de_mirage                  48.414652       0.733409   \n",
       "4     team b   de_mirage                  43.571196       0.709982   \n",
       "...      ...         ...                        ...            ...   \n",
       "1460  team a     de_nuke                  56.962213       0.766837   \n",
       "1461  team b  de_ancient                  56.580859       0.758207   \n",
       "1462  team a  de_inferno                  46.397195       0.742710   \n",
       "1463  team b   de_mirage                  53.792449       0.762264   \n",
       "1464  team b     de_nuke                  60.458365       0.796208   \n",
       "\n",
       "      Team_A_avg_elo  Team_B_avg_win_percentage  Team_B_avg_KR  \\\n",
       "0             1720.4                  47.289216       0.792615   \n",
       "1             1989.6                  54.823232       0.762641   \n",
       "2              753.8                  66.095238       0.722705   \n",
       "3             2565.0                  62.631108       0.838246   \n",
       "4             1484.4                  55.513072       0.768946   \n",
       "...              ...                        ...            ...   \n",
       "1460          1916.0                  45.598650       0.692673   \n",
       "1461          1580.0                  69.394938       0.759019   \n",
       "1462          1497.2                  54.778613       0.665482   \n",
       "1463          1533.4                  53.216783       0.755543   \n",
       "1464          2485.8                  54.160301       0.707371   \n",
       "\n",
       "      Team_B_avg_elo                                Match ID  \n",
       "0               1536  1-051c5a18-6a99-4e5e-bef7-ed1143474b33  \n",
       "1               2073  1-8f29e3ec-f49d-4d05-8eac-98993126c405  \n",
       "2                158  1-0e83d2d4-9aef-4b16-8142-7105abbb9022  \n",
       "3               2219  1-34674634-6bc9-45bc-b022-3f3161d5aede  \n",
       "4               1352  1-a9869c55-52a9-45a8-beb6-1fdffed4506d  \n",
       "...              ...                                     ...  \n",
       "1460            1967  1-7700da52-272c-499a-aee2-6dcd9c79a1d4  \n",
       "1461            2026  1-e9383e0d-385e-487f-80cf-99d092ef7b74  \n",
       "1462            1319  1-fe1779d4-6478-4bb7-9d97-be0008acf5a6  \n",
       "1463             450  1-cb15c093-881c-4ac2-ab54-7e7e03eba2ae  \n",
       "1464            2644  1-5acfd781-934e-4155-900f-c5318babd62a  \n",
       "\n",
       "[1465 rows x 9 columns]"
      ]
     },
     "execution_count": 86,
     "metadata": {},
     "output_type": "execute_result"
    }
   ],
   "source": [
    "# readining in win prediction data\n",
    "rng = np.random.RandomState(1)\n",
    "data = pd.read_excel(\"data_win_prediction.xlsx\")\n",
    "data.columns = [\"win\", \"map\", \n",
    "                \"Team_A_avg_win_percentage\", \n",
    "                \"Team_A_avg_KR\", \"Team_A_avg_elo\", \n",
    "                \"Team_B_avg_win_percentage\", \n",
    "                \"Team_B_avg_KR\", \"Team_B_avg_elo\", \n",
    "                \"Match ID\"]\n",
    "data"
   ]
  },
  {
   "cell_type": "code",
   "execution_count": 6,
   "id": "b5af588b-00d5-4222-b3ea-0de32940b6f6",
   "metadata": {},
   "outputs": [
    {
     "data": {
      "text/plain": [
       "win                          0\n",
       "map                          0\n",
       "Team_A_avg_win_percentage    0\n",
       "Team_A_avg_KR                0\n",
       "Team_A_avg_elo               0\n",
       "Team_B_avg_win_percentage    0\n",
       "Team_B_avg_KR                0\n",
       "Team_B_avg_elo               0\n",
       "Match ID                     0\n",
       "dtype: int64"
      ]
     },
     "execution_count": 6,
     "metadata": {},
     "output_type": "execute_result"
    }
   ],
   "source": [
    "# checking for missing data\n",
    "data.isna().sum()"
   ]
  },
  {
   "cell_type": "code",
   "execution_count": 7,
   "id": "36511f52-389c-4c35-bcc3-925ea532ac0c",
   "metadata": {},
   "outputs": [
    {
     "data": {
      "text/plain": [
       "20"
      ]
     },
     "execution_count": 7,
     "metadata": {},
     "output_type": "execute_result"
    }
   ],
   "source": [
    "# checking for duplicated rows\n",
    "data.duplicated().sum()"
   ]
  },
  {
   "cell_type": "code",
   "execution_count": 8,
   "id": "3b7e33e0-7865-4b1d-b9b2-01c4eb3205c4",
   "metadata": {},
   "outputs": [
    {
     "data": {
      "text/plain": [
       "0"
      ]
     },
     "execution_count": 8,
     "metadata": {},
     "output_type": "execute_result"
    }
   ],
   "source": [
    "# removing duplicated rows\n",
    "data = data.drop_duplicates()\n",
    "data.duplicated().sum()"
   ]
  },
  {
   "cell_type": "code",
   "execution_count": 42,
   "id": "2c3968ea-32a1-411b-95dc-201939ad5db6",
   "metadata": {},
   "outputs": [],
   "source": [
    "# spliting features and response variable\n",
    "features = data.loc[:, [\"Team_A_avg_win_percentage\", \"Team_A_avg_KR\", \"Team_A_avg_elo\",\n",
    "                  \"Team_B_avg_win_percentage\", \"Team_B_avg_KR\", \"Team_B_avg_elo\"]]\n",
    "# transforming response column into a 1d array\n",
    "response = data.loc[:, [\"win\"]].values.ravel()"
   ]
  },
  {
   "cell_type": "code",
   "execution_count": 44,
   "id": "8fd92bbe-5441-4e9f-a061-ec84fc55f091",
   "metadata": {},
   "outputs": [
    {
     "data": {
      "text/plain": [
       "array(['team a', 'team a', 'team b', ..., 'team a', 'team b', 'team b'],\n",
       "      dtype=object)"
      ]
     },
     "execution_count": 44,
     "metadata": {},
     "output_type": "execute_result"
    }
   ],
   "source": [
    "response"
   ]
  },
  {
   "cell_type": "code",
   "execution_count": 76,
   "id": "e7bf0498-5ac0-46f0-ac12-23f5220c9c41",
   "metadata": {},
   "outputs": [
    {
     "data": {
      "text/html": [
       "<div>\n",
       "<style scoped>\n",
       "    .dataframe tbody tr th:only-of-type {\n",
       "        vertical-align: middle;\n",
       "    }\n",
       "\n",
       "    .dataframe tbody tr th {\n",
       "        vertical-align: top;\n",
       "    }\n",
       "\n",
       "    .dataframe thead th {\n",
       "        text-align: right;\n",
       "    }\n",
       "</style>\n",
       "<table border=\"1\" class=\"dataframe\">\n",
       "  <thead>\n",
       "    <tr style=\"text-align: right;\">\n",
       "      <th></th>\n",
       "      <th>Team_A_avg_win_percentage</th>\n",
       "      <th>Team_A_avg_KR</th>\n",
       "      <th>Team_A_avg_elo</th>\n",
       "      <th>Team_B_avg_win_percentage</th>\n",
       "      <th>Team_B_avg_KR</th>\n",
       "      <th>Team_B_avg_elo</th>\n",
       "    </tr>\n",
       "  </thead>\n",
       "  <tbody>\n",
       "    <tr>\n",
       "      <th>Team_A_avg_win_percentage</th>\n",
       "      <td>1.000000</td>\n",
       "      <td>0.523704</td>\n",
       "      <td>0.066735</td>\n",
       "      <td>-0.343511</td>\n",
       "      <td>-0.064403</td>\n",
       "      <td>0.060668</td>\n",
       "    </tr>\n",
       "    <tr>\n",
       "      <th>Team_A_avg_KR</th>\n",
       "      <td>0.523704</td>\n",
       "      <td>1.000000</td>\n",
       "      <td>0.160686</td>\n",
       "      <td>-0.224177</td>\n",
       "      <td>0.034010</td>\n",
       "      <td>0.113984</td>\n",
       "    </tr>\n",
       "    <tr>\n",
       "      <th>Team_A_avg_elo</th>\n",
       "      <td>0.066735</td>\n",
       "      <td>0.160686</td>\n",
       "      <td>1.000000</td>\n",
       "      <td>-0.002986</td>\n",
       "      <td>0.134077</td>\n",
       "      <td>0.789506</td>\n",
       "    </tr>\n",
       "    <tr>\n",
       "      <th>Team_B_avg_win_percentage</th>\n",
       "      <td>-0.343511</td>\n",
       "      <td>-0.224177</td>\n",
       "      <td>-0.002986</td>\n",
       "      <td>1.000000</td>\n",
       "      <td>0.434137</td>\n",
       "      <td>0.018566</td>\n",
       "    </tr>\n",
       "    <tr>\n",
       "      <th>Team_B_avg_KR</th>\n",
       "      <td>-0.064403</td>\n",
       "      <td>0.034010</td>\n",
       "      <td>0.134077</td>\n",
       "      <td>0.434137</td>\n",
       "      <td>1.000000</td>\n",
       "      <td>0.118695</td>\n",
       "    </tr>\n",
       "    <tr>\n",
       "      <th>Team_B_avg_elo</th>\n",
       "      <td>0.060668</td>\n",
       "      <td>0.113984</td>\n",
       "      <td>0.789506</td>\n",
       "      <td>0.018566</td>\n",
       "      <td>0.118695</td>\n",
       "      <td>1.000000</td>\n",
       "    </tr>\n",
       "  </tbody>\n",
       "</table>\n",
       "</div>"
      ],
      "text/plain": [
       "                           Team_A_avg_win_percentage  Team_A_avg_KR  \\\n",
       "Team_A_avg_win_percentage                   1.000000       0.523704   \n",
       "Team_A_avg_KR                               0.523704       1.000000   \n",
       "Team_A_avg_elo                              0.066735       0.160686   \n",
       "Team_B_avg_win_percentage                  -0.343511      -0.224177   \n",
       "Team_B_avg_KR                              -0.064403       0.034010   \n",
       "Team_B_avg_elo                              0.060668       0.113984   \n",
       "\n",
       "                           Team_A_avg_elo  Team_B_avg_win_percentage  \\\n",
       "Team_A_avg_win_percentage        0.066735                  -0.343511   \n",
       "Team_A_avg_KR                    0.160686                  -0.224177   \n",
       "Team_A_avg_elo                   1.000000                  -0.002986   \n",
       "Team_B_avg_win_percentage       -0.002986                   1.000000   \n",
       "Team_B_avg_KR                    0.134077                   0.434137   \n",
       "Team_B_avg_elo                   0.789506                   0.018566   \n",
       "\n",
       "                           Team_B_avg_KR  Team_B_avg_elo  \n",
       "Team_A_avg_win_percentage      -0.064403        0.060668  \n",
       "Team_A_avg_KR                   0.034010        0.113984  \n",
       "Team_A_avg_elo                  0.134077        0.789506  \n",
       "Team_B_avg_win_percentage       0.434137        0.018566  \n",
       "Team_B_avg_KR                   1.000000        0.118695  \n",
       "Team_B_avg_elo                  0.118695        1.000000  "
      ]
     },
     "execution_count": 76,
     "metadata": {},
     "output_type": "execute_result"
    }
   ],
   "source": [
    "# checking for feature correlation\n",
    "features.corr()"
   ]
  },
  {
   "cell_type": "code",
   "execution_count": 88,
   "id": "c2a269c4-499d-4479-ac8a-9b9920f1a867",
   "metadata": {},
   "outputs": [
    {
     "data": {
      "text/plain": [
       "0.7889415708812261"
      ]
     },
     "execution_count": 88,
     "metadata": {},
     "output_type": "execute_result"
    }
   ],
   "source": [
    "# Importing required models for logistic regession\n",
    "from sklearn.linear_model import LogisticRegression\n",
    "from sklearn.model_selection import cross_val_score, KFold\n",
    "\n",
    "# fitting the regression model\n",
    "lr_model = LogisticRegression(max_iter = 200)\n",
    "\n",
    "# splitting data into k folds\n",
    "folds = KFold(n_splits = 10, shuffle = True, random_state = 50)\n",
    "\n",
    "# Perform k-folds cross validation\n",
    "scores = cross_val_score(lr_model, features, response, cv = folds, scoring = 'accuracy')\n",
    "scores.mean()"
   ]
  },
  {
   "cell_type": "code",
   "execution_count": 90,
   "id": "70c56c3a-237e-4723-a49e-633c717d9832",
   "metadata": {},
   "outputs": [
    {
     "data": {
      "text/plain": [
       "0.7612456747404844"
      ]
     },
     "execution_count": 90,
     "metadata": {},
     "output_type": "execute_result"
    }
   ],
   "source": [
    "# importing required models for random forests\n",
    "from sklearn.model_selection import train_test_split\n",
    "from sklearn.ensemble import RandomForestClassifier, RandomForestRegressor\n",
    "from sklearn.metrics import accuracy_score\n",
    "\n",
    "# splitting data into test and train sets\n",
    "X_train, X_test, y_train, y_test = train_test_split(features, response, test_size = 0.2, random_state = 50)\n",
    "\n",
    "\n",
    "# fitting random forests model\n",
    "rf_classifier = RandomForestClassifier(n_estimators = 500, random_state = 50)\n",
    "\n",
    "# Trainng the model\n",
    "rf_classifier.fit(X_train, y_train)\n",
    "\n",
    "# making predictions\n",
    "y_pred = rf_classifier.predict(X_test)\n",
    "\n",
    "# Evaluating accuracy\n",
    "accuracy = accuracy_score(y_test, y_pred)\n",
    "accuracy"
   ]
  },
  {
   "cell_type": "code",
   "execution_count": 104,
   "id": "764c86c2-8a4c-4bda-9d90-90fe6c69eec5",
   "metadata": {},
   "outputs": [
    {
     "name": "stdout",
     "output_type": "stream",
     "text": [
      "Best Parameters: {'max_depth': 10, 'max_features': 'sqrt', 'n_estimators': 100}\n",
      "Best Accuracy: 0.769047976011994\n"
     ]
    }
   ],
   "source": [
    "# Random Forrests parameter tuning\n",
    "from sklearn.model_selection import GridSearchCV\n",
    "\n",
    "# parameters grid\n",
    "param_grid = {\n",
    "    'n_estimators': [50, 100, 200],\n",
    "    'max_depth': [None, 10, 20],\n",
    "    'max_features': ['sqrt', 'log2']\n",
    "}\n",
    "\n",
    "# Using CV to tune parameters for random forest \n",
    "grid_search = GridSearchCV(RandomForestClassifier(random_state = 50), \n",
    "                                                  param_grid, \n",
    "                                                  cv = 10, \n",
    "                                                  scoring = 'accuracy')\n",
    "grid_search.fit(X_train, y_train)\n",
    "\n",
    "print(\"Best Parameters:\", grid_search.best_params_)\n",
    "print(\"Best Accuracy:\", grid_search.best_score_)"
   ]
  },
  {
   "cell_type": "code",
   "execution_count": 106,
   "id": "d1e6213a-24f3-480e-83a8-3a644717035f",
   "metadata": {},
   "outputs": [
    {
     "data": {
      "text/plain": [
       "0.7647058823529411"
      ]
     },
     "execution_count": 106,
     "metadata": {},
     "output_type": "execute_result"
    }
   ],
   "source": [
    "# Refitting model with new parameters\n",
    "\n",
    "# fitting random forests model\n",
    "rf_classifier = RandomForestClassifier(n_estimators = 100, random_state = 50, max_features = \"sqrt\", max_depth = 10)\n",
    "\n",
    "# Trainng the model\n",
    "rf_classifier.fit(X_train, y_train)\n",
    "\n",
    "# making predictions\n",
    "y_pred = rf_classifier.predict(X_test)\n",
    "\n",
    "# Evaluating accuracy\n",
    "accuracy = accuracy_score(y_test, y_pred)\n",
    "accuracy"
   ]
  },
  {
   "cell_type": "code",
   "execution_count": 92,
   "id": "1d174b4a-b5da-4437-a7ed-fc314f6c97a0",
   "metadata": {},
   "outputs": [
    {
     "name": "stdout",
     "output_type": "stream",
     "text": [
      "Accuracy: 0.78\n"
     ]
    }
   ],
   "source": [
    "# Support Vector Machine\n",
    "\n",
    "# importing required libraries\n",
    "import matplotlib.lines as mlines\n",
    "import matplotlib.pyplot as plt\n",
    "\n",
    "from sklearn import svm\n",
    "from sklearn.svm import SVC\n",
    "from sklearn.datasets import make_blobs\n",
    "from sklearn.inspection import DecisionBoundaryDisplay\n",
    "\n",
    "# split data in to test and train sets\n",
    "X_train, X_test, y_train, y_test = train_test_split(features, response, test_size = 0.2, random_state = 50)\n",
    "\n",
    "\n",
    "# fitting svm classifier\n",
    "svm_model = SVC(kernel = 'linear', C = 1.0)\n",
    "svm_model.fit(X_train, y_train)\n",
    "\n",
    "# predicting new \n",
    "y_pred = svm_model.predict(X_test)\n",
    "\n",
    "# Evaluate\n",
    "print(f\"Accuracy: {accuracy_score(y_test, y_pred):.2f}\")"
   ]
  },
  {
   "cell_type": "code",
   "execution_count": 100,
   "id": "77805afd-d464-4658-ab7e-769960d2cc13",
   "metadata": {},
   "outputs": [
    {
     "name": "stdout",
     "output_type": "stream",
     "text": [
      "Best parameters: {'C': 0.1, 'gamma': 'scale', 'kernel': 'linear'}\n"
     ]
    }
   ],
   "source": [
    "# tuning SVM hyperparameters\n",
    "from sklearn.model_selection import GridSearchCV\n",
    "\n",
    "param_grid = {\n",
    "    \"C\": [0.1, 1, 5, 10],\n",
    "    \"gamma\": ['scale', 'auto', 0.1, 1],\n",
    "    \"kernel\": ['linear', 'rbf']\n",
    "}\n",
    "\n",
    "# performing grid search\n",
    "grid_cv = GridSearchCV(SVC(), param_grid, cv = 5)\n",
    "grid_cv.fit(X_train, y_train)\n",
    "\n",
    "# Best parameters\n",
    "print(\"Best parameters:\", grid_cv.best_params_)\n"
   ]
  },
  {
   "cell_type": "code",
   "execution_count": 102,
   "id": "6a69ec50-f8a0-43cd-9e4c-1675ba65173c",
   "metadata": {},
   "outputs": [
    {
     "name": "stdout",
     "output_type": "stream",
     "text": [
      "Accuracy: 0.77\n"
     ]
    }
   ],
   "source": [
    "# refitting svm with optimal parameters\n",
    "svm_model = SVC(kernel = 'linear', C = 0.1, gamma = \"scale\")\n",
    "svm_model.fit(X_train, y_train)\n",
    "\n",
    "# predicting new \n",
    "y_pred = svm_model.predict(X_test)\n",
    "\n",
    "# Evaluate\n",
    "print(f\"Accuracy: {accuracy_score(y_test, y_pred):.2f}\")"
   ]
  },
  {
   "cell_type": "code",
   "execution_count": null,
   "id": "c6ed6995-d5cf-48a9-9c42-b37dfaa3d179",
   "metadata": {},
   "outputs": [],
   "source": []
  }
 ],
 "metadata": {
  "kernelspec": {
   "display_name": "Python 3 (ipykernel)",
   "language": "python",
   "name": "python3"
  },
  "language_info": {
   "codemirror_mode": {
    "name": "ipython",
    "version": 3
   },
   "file_extension": ".py",
   "mimetype": "text/x-python",
   "name": "python",
   "nbconvert_exporter": "python",
   "pygments_lexer": "ipython3",
   "version": "3.12.4"
  }
 },
 "nbformat": 4,
 "nbformat_minor": 5
}
